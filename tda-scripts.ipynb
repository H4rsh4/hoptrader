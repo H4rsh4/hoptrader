{
 "cells": [
  {
   "cell_type": "markdown",
   "metadata": {},
   "source": [
    "## Imports"
   ]
  },
  {
   "cell_type": "code",
   "execution_count": 7,
   "metadata": {},
   "outputs": [],
   "source": [
    "import requests\n",
    "\n",
    "import os, sys\n",
    "from tda import auth, client\n",
    "from tda.orders.equities import equity_buy_market, equity_buy_limit\n",
    "from tda.orders.common import Duration, Session\n",
    "import tda\n",
    "\n",
    "# currentdir = os.path.dirname(os.path.realpath(__file__))\n",
    "currentdir = os.path.abspath('')\n",
    "parentdir = os.path.dirname(currentdir)\n",
    "sys.path.append(parentdir)\n",
    "import config\n",
    "\n",
    "from selenium import webdriver\n",
    "import time\n",
    "import json\n",
    "\n",
    "token_path = \"token\"\n",
    "\n",
    "DRIVER_PATH = \"/home/hopper/chromedriver\"\n",
    "driver = webdriver.Chrome(DRIVER_PATH)\n",
    "\n",
    "redirect_uri = \"https://localhost\"\n",
    "\n",
    "\n",
    "PATH = \"/home/hopper/chromedriver\"\n",
    "token_path = \"token\"\n",
    "\n",
    "try:\n",
    "    c = auth.client_from_token_file(token_path, config.api_key)\n",
    "except FileNotFoundError:\n",
    "    c = auth.client_from_login_flow(driver, config.api_key, redirect_uri, token_path)\n"
   ]
  },
  {
   "cell_type": "markdown",
   "metadata": {},
   "source": [
    "## Print Financhill Score of all TDA position"
   ]
  },
  {
   "cell_type": "code",
   "execution_count": 8,
   "metadata": {},
   "outputs": [],
   "source": [
    "positions = c.Account.Fields.POSITIONS\n",
    "r = c.get_account(config.tda_acct_num, fields=positions)\n",
    "\n",
    "stocks = r.json()['securitiesAccount']['positions']\n",
    "\n",
    "stock_symbols = [] #append later\n",
    "\n",
    "# for stock, data in my_stocks.items():\n",
    "for stock in stocks:\n",
    "    break\n",
    "    ticker = stock['instrument']['symbol']\n",
    "    if ticker == 'MMDA1':\n",
    "        continue\n",
    "    driver = webdriver.Chrome(DRIVER_PATH)\n",
    "    driver.get(\"https://financhill.com/search/stock-score/\" + ticker)\n",
    "    time.sleep(2)\n",
    "\n",
    "    print(ticker)\n",
    "    score = int(driver.find_element_by_tag_name(\"h2\").text)\n",
    "    print(score)\n",
    "\n",
    "    # if (score < 40):\n",
    "    #     r.order_sell_trailing_stop(stock, data['quantity'], 1)\n",
    "    #     soldStocks.append(stock)\n",
    "\n",
    "    driver.quit()"
   ]
  },
  {
   "cell_type": "markdown",
   "metadata": {},
   "source": []
  },
  {
   "cell_type": "markdown",
   "metadata": {},
   "source": [
    "## Buy top stocks from Financhill\n",
    "\n",
    "TODO: Only buy if I don't own any to encourage diversification"
   ]
  },
  {
   "cell_type": "code",
   "execution_count": 9,
   "metadata": {},
   "outputs": [
    {
     "name": "stdout",
     "output_type": "stream",
     "text": [
      "1.1\n",
      "1.2\n",
      "1.3\n"
     ]
    },
    {
     "ename": "TypeError",
     "evalue": "list indices must be integers or slices, not str",
     "output_type": "error",
     "traceback": [
      "\u001b[0;31m---------------------------------------------------------------------------\u001b[0m",
      "\u001b[0;31mTypeError\u001b[0m                                 Traceback (most recent call last)",
      "\u001b[0;32m<ipython-input-9-9543d5f0492e>\u001b[0m in \u001b[0;36m<module>\u001b[0;34m\u001b[0m\n\u001b[1;32m     17\u001b[0m \u001b[0mstock_symbols\u001b[0m \u001b[0;34m=\u001b[0m \u001b[0;34m[\u001b[0m\u001b[0;34m]\u001b[0m \u001b[0;31m#append later\u001b[0m\u001b[0;34m\u001b[0m\u001b[0;34m\u001b[0m\u001b[0m\n\u001b[1;32m     18\u001b[0m \u001b[0;34m\u001b[0m\u001b[0m\n\u001b[0;32m---> 19\u001b[0;31m \u001b[0mprint\u001b[0m\u001b[0;34m(\u001b[0m\u001b[0mstocks\u001b[0m\u001b[0;34m[\u001b[0m\u001b[0;34m'instrument'\u001b[0m\u001b[0;34m]\u001b[0m\u001b[0;34m)\u001b[0m\u001b[0;34m\u001b[0m\u001b[0;34m\u001b[0m\u001b[0m\n\u001b[0m\u001b[1;32m     20\u001b[0m \u001b[0;32mfor\u001b[0m \u001b[0mstock\u001b[0m \u001b[0;32min\u001b[0m \u001b[0mstocks\u001b[0m\u001b[0;34m:\u001b[0m\u001b[0;34m\u001b[0m\u001b[0;34m\u001b[0m\u001b[0m\n\u001b[1;32m     21\u001b[0m     \u001b[0mstock_symbols\u001b[0m\u001b[0;34m.\u001b[0m\u001b[0mappend\u001b[0m\u001b[0;34m(\u001b[0m\u001b[0mstock\u001b[0m\u001b[0;34m[\u001b[0m\u001b[0;34m'instrument'\u001b[0m\u001b[0;34m]\u001b[0m\u001b[0;34m[\u001b[0m\u001b[0;34m'symbol'\u001b[0m\u001b[0;34m]\u001b[0m\u001b[0;34m)\u001b[0m\u001b[0;34m\u001b[0m\u001b[0;34m\u001b[0m\u001b[0m\n",
      "\u001b[0;31mTypeError\u001b[0m: list indices must be integers or slices, not str"
     ]
    }
   ],
   "source": [
    "print('1.1')\n",
    "# All this scraping code works\n",
    "driver.get(\"https://financhill.com/screen/stock-score\")\n",
    "time.sleep(2)\n",
    "driver.find_element_by_css_selector(\n",
    "    'span[data-sort-name=\"stock_score_normalized\"]'\n",
    ").click()\n",
    "time.sleep(2)\n",
    "tickers = driver.find_elements_by_tag_name(\"td\")\n",
    "print('1.2')\n",
    "\n",
    "positions = c.Account.Fields.POSITIONS\n",
    "r = c.get_account(config.tda_acct_num, fields=positions)\n",
    "print('1.3')\n",
    "stocks = r.json()['securitiesAccount']['positions']\n",
    "\n",
    "stock_symbols = [] #append later\n",
    "\n",
    "# for stock in stocks:\n",
    "#     stock_symbols.append(stock['instrument']['symbol'])\n",
    "\n",
    "new_stocks_found = False\n",
    "\n",
    "i = 60\n",
    "print('2')\n",
    "# [0]:Ticker, [1]:Share Price, [2]:Rating, [3]:Score, [4]:Rating Change Date, [5]:Price Change %\n",
    "while i < 200:\n",
    "\n",
    "    # Get ticker and price of stock\n",
    "    ticker = str(tickers[i].text)\n",
    "    share_price = float(tickers[i + 1].text)\n",
    "\n",
    "    # Calculate how many shares to buy in order to equal about $1000\n",
    "    desired_dollar_amount = 1000 # How many dollars of each stock to buy\n",
    "    num_shares = round(desired_dollar_amount / share_price)\n",
    "\n",
    "    if (not(ticker in stock_symbols)):\n",
    "\n",
    "        # Build and place order\n",
    "        order = equity_buy_market(ticker, num_shares)\n",
    "        r = c.place_order(config.tda_acct_num, order)\n",
    "        print(\"Bought \" + str(num_shares) + \" shares of \" + ticker)\n",
    "        new_stocks_found = True\n",
    "\n",
    "    i += 10\n",
    "\n",
    "if (not new_stocks_found):\n",
    "    print(\"You already own all the top stocks\")\n",
    "\n",
    "driver.quit()"
   ]
  }
 ],
 "metadata": {
  "kernelspec": {
   "display_name": "Python 3",
   "language": "python",
   "name": "python3"
  },
  "language_info": {
   "codemirror_mode": {
    "name": "ipython",
    "version": 3
   },
   "file_extension": ".py",
   "mimetype": "text/x-python",
   "name": "python",
   "nbconvert_exporter": "python",
   "pygments_lexer": "ipython3",
   "version": "3.8.5"
  },
  "orig_nbformat": 2
 },
 "nbformat": 4,
 "nbformat_minor": 2
}